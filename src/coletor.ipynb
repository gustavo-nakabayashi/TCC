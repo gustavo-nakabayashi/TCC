{
 "cells": [
  {
   "cell_type": "code",
   "execution_count": 26,
   "metadata": {},
   "outputs": [],
   "source": [
    "from datetime import datetime\n",
    "import matplotlib.pyplot as plt\n",
    "import pandas as pd\n",
    "from pandas.plotting import register_matplotlib_converters\n",
    "register_matplotlib_converters()\n",
    "import MetaTrader5 as mt5\n",
    "import plotly.graph_objects as go\n",
    "from fastquant import backtest\n",
    "import numpy as np\n",
    "\n"
   ]
  },
  {
   "cell_type": "code",
   "execution_count": 39,
   "metadata": {},
   "outputs": [
    {
     "name": "stdout",
     "output_type": "stream",
     "text": [
      "connected to account #66056949\n",
      "Tamanho dos dados de WIN@N_M15: 45351\n",
      "Tamanho dos dados de WIN@N_D1: 1248\n",
      "Tamanho dos dados de WDO@N_M15: 44204\n",
      "Tamanho dos dados de WDO@N_D1: 1217\n"
     ]
    },
    {
     "data": {
      "text/plain": [
       "True"
      ]
     },
     "execution_count": 39,
     "metadata": {},
     "output_type": "execute_result"
    }
   ],
   "source": [
    "# connect to MetaTrader 5\n",
    "if not mt5.initialize():\n",
    "    print(\"initialize() failed\")\n",
    "    mt5.shutdown()\n",
    "\n",
    "account = 66056949\n",
    "# the terminal database password is applied if connection data is set to be remembered\n",
    "authorized = mt5.login(account, server=\"XPMT5-DEMO\")\n",
    "if authorized:\n",
    "    print(\"connected to account #{}\".format(account))\n",
    "else:\n",
    "    print(\"failed to connect at account #{}, error code: {}\".format(\n",
    "        account, mt5.last_error()))\n",
    "\n",
    "# request connection status and parameters\n",
    "# get data on MetaTrader 5 version\n",
    "\n",
    "# request ticks from AUDUSD within 2019.04.01 13:00 - 2019.04.02 13:00\n",
    "timeframes = [\n",
    "    # [\n",
    "    #     mt5.TIMEFRAME_M1,\n",
    "    #     \"M1\"\n",
    "    # ],\n",
    "    # [\n",
    "    #     mt5.TIMEFRAME_M5,\n",
    "    #     \"M5\"\n",
    "    # ],\n",
    "    [\n",
    "        mt5.TIMEFRAME_M15, \n",
    "        \"M15\"\n",
    "    ],\n",
    "    # [\n",
    "    #     mt5.TIMEFRAME_M30, \n",
    "    #     \"M30\"\n",
    "    # ],\n",
    "    # [\n",
    "    #     mt5.TIMEFRAME_H1,\n",
    "    #     \"H1\"\n",
    "    # ],\n",
    "    # [\n",
    "    #     mt5.TIMEFRAME_H4,\n",
    "    #     \"H4\"\n",
    "    # ],\n",
    "    [\n",
    "        mt5.TIMEFRAME_D1,\n",
    "        \"D1\"\n",
    "    ],\n",
    "]\n",
    "\n",
    "stocks = [\n",
    "    \"WIN@N\",\n",
    "    \"WDO@N\",\n",
    "    # \"VALE3\",\n",
    "]\n",
    "end_date = datetime(2021, 11, 1)\n",
    "\n",
    "for stock in stocks:\n",
    "    for timeframe in timeframes:\n",
    "        rates = []\n",
    "        rates = mt5.copy_rates_from(stock, timeframe[0], end_date, 99999)\n",
    "        if len(rates):\n",
    "            print(f\"Tamanho dos dados de {stock}_{timeframe[1]}: {len(rates)}\")\n",
    "            rates_frame = pd.DataFrame(rates)\n",
    "            if timeframe[1] == \"D1\":\n",
    "                rates_frame.to_csv(f\"../data/{stock}_{timeframe[1]}_without.csv\",\n",
    "                                index=False, header=None)\n",
    "                rates_frame.to_csv(f\"../data/{stock}_{timeframe[1]}.csv\",\n",
    "                                index=False)\n",
    "            else:\n",
    "                rates_frame.to_csv(f\"../data/{stock}_{timeframe[1]}.csv\",\n",
    "                               index=False)\n",
    "\n",
    "\n",
    "# print(ibov_d1_rates)\n",
    "# with open(\"test.csv\",'w',encoding = 'utf-8') as f:\n",
    "#   f.write(ibov_d1_rates)\n",
    "# shut down connection to MetaTrader 5\n",
    "mt5.shutdown()\n",
    "\n",
    "# DATA\n"
   ]
  },
  {
   "cell_type": "code",
   "execution_count": 30,
   "metadata": {},
   "outputs": [
    {
     "data": {
      "text/plain": [
       "0"
      ]
     },
     "execution_count": 30,
     "metadata": {},
     "output_type": "execute_result"
    }
   ],
   "source": [
    "import os\n",
    "os.system(r'''matlab.exe -nosplash -nodesktop -batch \"cd C:\\Users\\gustavo.barros\\Documents\\UFMG\\TCC\\; try, run ('C:\\Users\\gustavo.barros\\Documents\\UFMG\\TCC\\matlab\\main.m'); end; quit\"''')"
   ]
  },
  {
   "cell_type": "code",
   "execution_count": null,
   "metadata": {},
   "outputs": [],
   "source": [
    "petr4_m5_frame = pd.DataFrame(ibov_m5_rates)\n",
    "petr4_m5_frame.to_csv(\"petr4.csv\", index=False)\n",
    "\n",
    "vale3_m5_frame = pd.DataFrame(ibov_d1_rates)\n",
    "vale3_m5_frame[\"close\"].to_csv(\"vale3_1d.csv\", index=False, header=None)"
   ]
  },
  {
   "cell_type": "code",
   "execution_count": null,
   "metadata": {},
   "outputs": [],
   "source": [
    ",\n",
    "# create DataFrame out of the obtained data\n",
    "ibov_m15_frame = pd.DataFrame(ibov_m5_rates)\n",
    "ibov_m15_frame['Date'] = pd.to_datetime(ibov_m15_frame['time'], unit='s')\n",
    "\n",
    "ibov_m15_frame.head(30)\n",
    "\n",
    "\n",
    "fig = go.Figure(data=[go.Candlestick(x=ibov_m15_frame['Date'],\n",
    "                open=ibov_m15_frame['open'], high=ibov_m15_frame['high'],\n",
    "                low=ibov_m15_frame['low'], close=ibov_m15_frame['close'])\n",
    "                     ])\n",
    "\n",
    "fig.update_layout(xaxis_rangeslider_visible=True)\n",
    "fig.show()"
   ]
  },
  {
   "cell_type": "code",
   "execution_count": null,
   "metadata": {},
   "outputs": [],
   "source": [
    "#PLOT\n",
    "# create DataFrame out of the obtained data\n",
    "ibov_d1_frame = pd.DataFrame(ibov_d1_rates)\n",
    "ibov_d1_frame['Date'] = pd.to_datetime(ibov_d1_frame['time'], unit='s')\n",
    "\n",
    "ibov_d1_frame.head(30)\n",
    "\n",
    "\n",
    "# fig = go.Figure(data=[go.Candlestick(x=ibov_d1_frame['Date'],\n",
    "#                 open=ibov_d1_frame['open'], high=ibov_d1_frame['high'],\n",
    "#                 low=ibov_d1_frame['low'], close=ibov_d1_frame['close'])\n",
    "#                      ])\n",
    "\n",
    "# fig.update_layout(xaxis_rangeslider_visible=True)\n",
    "# fig.show()"
   ]
  },
  {
   "cell_type": "code",
   "execution_count": null,
   "metadata": {},
   "outputs": [],
   "source": [
    "ibov_m15_frame[\"datetime\"] = ibov_m15_frame[\"Date\"]\n",
    "df = ibov_m15_frame[[\"open\",\"high\",'low','close', 'datetime']]\n",
    "\n",
    "backtest('rsi', ibov_m15_frame, rsi_period=14, rsi_upper=70, rsi_lower=30)\n"
   ]
  },
  {
   "cell_type": "code",
   "execution_count": null,
   "metadata": {},
   "outputs": [],
   "source": []
  }
 ],
 "metadata": {
  "interpreter": {
   "hash": "9d5b7078e43f25cba460b0f865d4f063c6c0534c8346caa5f8b56026c7488f2b"
  },
  "kernelspec": {
   "display_name": "Python 3",
   "language": "python",
   "name": "python3"
  },
  "language_info": {
   "codemirror_mode": {
    "name": "ipython",
    "version": 3
   },
   "file_extension": ".py",
   "mimetype": "text/x-python",
   "name": "python",
   "nbconvert_exporter": "python",
   "pygments_lexer": "ipython3",
   "version": "3.8.8"
  }
 },
 "nbformat": 4,
 "nbformat_minor": 2
}
