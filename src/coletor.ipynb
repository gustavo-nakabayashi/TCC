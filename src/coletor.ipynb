{
 "cells": [
  {
   "cell_type": "code",
   "execution_count": 26,
   "metadata": {},
   "outputs": [],
   "source": [
    "from datetime import datetime\n",
    "import matplotlib.pyplot as plt\n",
    "import pandas as pd\n",
    "from pandas.plotting import register_matplotlib_converters\n",
    "register_matplotlib_converters()\n",
    "import MetaTrader5 as mt5\n",
    "import plotly.graph_objects as go\n",
    "from fastquant import backtest\n",
    "import numpy as np"
   ]
  },
  {
   "cell_type": "code",
   "execution_count": 41,
   "metadata": {},
   "outputs": [
    {
     "name": "stdout",
     "output_type": "stream",
     "text": [
      "connected to account #66056949\n",
      "Tamanho dos dados de WIN@N_M15: 10000\n",
      "Tamanho dos dados de WIN@N_D1: 1248\n",
      "Tamanho dos dados de WDO@N_M15: 10000\n",
      "Tamanho dos dados de WDO@N_D1: 1217\n"
     ]
    },
    {
     "data": {
      "text/plain": [
       "True"
      ]
     },
     "execution_count": 41,
     "metadata": {},
     "output_type": "execute_result"
    }
   ],
   "source": []
  },
  {
   "cell_type": "code",
   "execution_count": 42,
   "metadata": {},
   "outputs": [
    {
     "data": {
      "text/plain": [
       "0"
      ]
     },
     "execution_count": 42,
     "metadata": {},
     "output_type": "execute_result"
    }
   ],
   "source": [
    "import os\n",
    "os.system(r'''matlab.exe -nosplash -nodesktop -batch \"cd C:\\Users\\gubar\\Documents\\UFMG\\TCC\\; try, run ('C:\\Users\\gubar\\Documents\\UFMG\\TCC\\matlab\\main.m'); end; quit\"''')"
   ]
  },
  {
   "cell_type": "code",
   "execution_count": null,
   "metadata": {},
   "outputs": [],
   "source": [
    "petr4_m5_frame = pd.DataFrame(ibov_m5_rates)\n",
    "petr4_m5_frame.to_csv(\"petr4.csv\", index=False)\n",
    "\n",
    "vale3_m5_frame = pd.DataFrame(ibov_d1_rates)\n",
    "vale3_m5_frame[\"close\"].to_csv(\"vale3_1d.csv\", index=False, header=None)"
   ]
  },
  {
   "cell_type": "code",
   "execution_count": null,
   "metadata": {},
   "outputs": [],
   "source": [
    "# create DataFrame out of the obtained data\n",
    "ibov_m15_frame = pd.DataFrame(ibov_m5_rates)\n",
    "ibov_m15_frame['Date'] = pd.to_datetime(ibov_m15_frame['time'], unit='s')\n",
    "\n",
    "ibov_m15_frame.head(30)\n",
    "\n",
    "\n",
    "fig = go.Figure(data=[go.Candlestick(x=ibov_m15_frame['Date'],\n",
    "                open=ibov_m15_frame['open'], high=ibov_m15_frame['high'],\n",
    "                low=ibov_m15_frame['low'], close=ibov_m15_frame['close'])\n",
    "                     ])\n",
    "\n",
    "fig.update_layout(xaxis_rangeslider_visible=True)\n",
    "fig.show()"
   ]
  },
  {
   "cell_type": "code",
   "execution_count": null,
   "metadata": {},
   "outputs": [],
   "source": [
    "#PLOT\n",
    "# create DataFrame out of the obtained data\n",
    "ibov_d1_frame = pd.DataFrame(ibov_d1_rates)\n",
    "ibov_d1_frame['Date'] = pd.to_datetime(ibov_d1_frame['time'], unit='s')\n",
    "\n",
    "ibov_d1_frame.head(30)\n",
    "\n",
    "\n",
    "# fig = go.Figure(data=[go.Candlestick(x=ibov_d1_frame['Date'],\n",
    "#                 open=ibov_d1_frame['open'], high=ibov_d1_frame['high'],\n",
    "#                 low=ibov_d1_frame['low'], close=ibov_d1_frame['close'])\n",
    "#                      ])\n",
    "\n",
    "# fig.update_layout(xaxis_rangeslider_visible=True)\n",
    "# fig.show()"
   ]
  },
  {
   "cell_type": "code",
   "execution_count": null,
   "metadata": {},
   "outputs": [],
   "source": [
    "ibov_m15_frame[\"datetime\"] = ibov_m15_frame[\"Date\"]\n",
    "df = ibov_m15_frame[[\"open\",\"high\",'low','close', 'datetime']]\n",
    "\n",
    "backtest('rsi', ibov_m15_frame, rsi_period=14, rsi_upper=70, rsi_lower=30)\n"
   ]
  },
  {
   "cell_type": "code",
   "execution_count": null,
   "metadata": {},
   "outputs": [],
   "source": []
  }
 ],
 "metadata": {
  "interpreter": {
   "hash": "9d5b7078e43f25cba460b0f865d4f063c6c0534c8346caa5f8b56026c7488f2b"
  },
  "kernelspec": {
   "display_name": "Python 3",
   "language": "python",
   "name": "python3"
  },
  "language_info": {
   "codemirror_mode": {
    "name": "ipython",
    "version": 3
   },
   "file_extension": ".py",
   "mimetype": "text/x-python",
   "name": "python",
   "nbconvert_exporter": "python",
   "pygments_lexer": "ipython3",
   "version": "3.8.8"
  }
 },
 "nbformat": 4,
 "nbformat_minor": 2
}
